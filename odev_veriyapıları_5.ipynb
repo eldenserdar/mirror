{
 "cells": [
  {
   "cell_type": "code",
   "execution_count": 4,
   "metadata": {},
   "outputs": [
    {
     "name": "stdout",
     "output_type": "stream",
     "text": [
      "92\n"
     ]
    }
   ],
   "source": [
    "\n",
    "ilkbahar=[\"mart\",\"nisan\",\"mayıs\"]\n",
    "yaz=[\"haziran\",\"temmuz\",\"ağustos\"]\n",
    "sonbahar=[\"eylül\",\"ekim\",\"kasım\"]\n",
    "kış=[\"aralık\",\"ocak\",\"şubat\"]\n",
    "\n",
    "mevsimlere_göre_aylar=[ilkbahar,yaz,sonbahar,kış]\n",
    "\n",
    "haziran=30\n",
    "temmuz=31\n",
    "ağustos=31\n",
    "\n",
    "yazı_ayı_günsayısı=haziran+temmuz+ağustos\n",
    "\n",
    "print(yazı_ayı_günsayısı)\n",
    "\n"
   ]
  },
  {
   "cell_type": "code",
   "execution_count": null,
   "metadata": {},
   "outputs": [],
   "source": []
  }
 ],
 "metadata": {
  "kernelspec": {
   "display_name": "Python 3",
   "language": "python",
   "name": "python3"
  },
  "language_info": {
   "codemirror_mode": {
    "name": "ipython",
    "version": 3
   },
   "file_extension": ".py",
   "mimetype": "text/x-python",
   "name": "python",
   "nbconvert_exporter": "python",
   "pygments_lexer": "ipython3",
   "version": "3.7.4"
  }
 },
 "nbformat": 4,
 "nbformat_minor": 2
}
