{
 "cells": [
  {
   "cell_type": "code",
   "execution_count": 7,
   "metadata": {},
   "outputs": [
    {
     "name": "stdout",
     "output_type": "stream",
     "text": [
      "[['ocak', 'mart', 'mayıs', 'temmuz', 'ağustos', 'ekim', 'aralık'], ['31']]\n",
      "[['şubat'], ['28']]\n",
      "[['nisan', 'haziran', 'eylül', 'kasım'], ['30']]\n"
     ]
    }
   ],
   "source": [
    "x=[[\"ocak\",\"mart\",\"mayıs\",\"temmuz\",\"ağustos\",\"ekim\",\"aralık\"],[\"şubat\"],[\"nisan\",\"haziran\",\"eylül\",\"kasım\"],[\"28\"],[\"30\"],[\"31\"]]\n",
    "\n",
    "bir=[x[0]]+[x[5]]\n",
    "iki=[x[1]]+[x[3]]\n",
    "üç=[x[2]]+[x[4]]\n",
    "\n",
    "\n",
    "print(bir)\n",
    "print(iki)\n",
    "print(üç)"
   ]
  },
  {
   "cell_type": "code",
   "execution_count": null,
   "metadata": {},
   "outputs": [],
   "source": []
  }
 ],
 "metadata": {
  "kernelspec": {
   "display_name": "Python 3",
   "language": "python",
   "name": "python3"
  },
  "language_info": {
   "codemirror_mode": {
    "name": "ipython",
    "version": 3
   },
   "file_extension": ".py",
   "mimetype": "text/x-python",
   "name": "python",
   "nbconvert_exporter": "python",
   "pygments_lexer": "ipython3",
   "version": "3.7.4"
  }
 },
 "nbformat": 4,
 "nbformat_minor": 2
}
