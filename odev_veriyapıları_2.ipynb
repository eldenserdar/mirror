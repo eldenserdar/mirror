{
 "cells": [
  {
   "cell_type": "code",
   "execution_count": 24,
   "metadata": {},
   "outputs": [
    {
     "name": "stdout",
     "output_type": "stream",
     "text": [
      "['ocak', '31'] ['şubat', '28'] ['mart', '31'] ['mayıs', '30'] ['temmuz', '31'] ['ağustos', '30'] ['ekim', '31'] ['aralık', '31'] ['nisan', '30'] ['haziran', '31'] ['eylül', '30'] ['kasım', '31']\n"
     ]
    }
   ],
   "source": [
    "aylar=[\"ocak\",\"şubat\",\"mart\",\"nisan\",\"mayıs\",\"haziran\",\"temmuz\",\"ağustos\",\"eylül\",\"ekim\",\"kasım\",\"aralık\",\"28\",\"30\",\"31\"]\n",
    "\n",
    "bir=[aylar[0]]+[aylar[14]]\n",
    "iki=[aylar[1]]+[aylar[12]]\n",
    "üç=[aylar[2]]+[aylar[14]]\n",
    "dört=[aylar[3]]+[aylar[13]]\n",
    "beş=[aylar[4]]+[aylar[14]]\n",
    "altı=[aylar[5]]+[aylar[13]]\n",
    "yedi=[aylar[6]]+[aylar[14]]\n",
    "sekiz=[aylar[7]]+[aylar[14]]\n",
    "dokuz=[aylar[8]]+[aylar[13]]\n",
    "on=[aylar[9]]+[aylar[14]]\n",
    "onbir=[aylar[10]]+[aylar[13]]\n",
    "oniki=[aylar[11]]+[aylar[14]]\n",
    "\n",
    "print(bir,iki,üç,dört,beş,altı,yedi,sekiz,dokuz,on,onbir,oniki)"
   ]
  },
  {
   "cell_type": "code",
   "execution_count": null,
   "metadata": {},
   "outputs": [],
   "source": []
  },
  {
   "cell_type": "code",
   "execution_count": null,
   "metadata": {},
   "outputs": [],
   "source": []
  }
 ],
 "metadata": {
  "kernelspec": {
   "display_name": "Python 3",
   "language": "python",
   "name": "python3"
  },
  "language_info": {
   "codemirror_mode": {
    "name": "ipython",
    "version": 3
   },
   "file_extension": ".py",
   "mimetype": "text/x-python",
   "name": "python",
   "nbconvert_exporter": "python",
   "pygments_lexer": "ipython3",
   "version": "3.7.4"
  }
 },
 "nbformat": 4,
 "nbformat_minor": 2
}
