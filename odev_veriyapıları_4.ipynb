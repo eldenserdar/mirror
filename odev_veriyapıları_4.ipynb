{
 "cells": [
  {
   "cell_type": "code",
   "execution_count": 4,
   "metadata": {},
   "outputs": [
    {
     "name": "stdout",
     "output_type": "stream",
     "text": [
      "['mart', 'nisan', 'mayıs']\n",
      "['haziran', 'temmuz', 'ağustos']\n",
      "['eylül', 'ekim', 'kasım']\n",
      "['aralık', 'ocak', 'şubat']\n"
     ]
    }
   ],
   "source": [
    "ilkbahar=[\"mart\",\"nisan\",\"mayıs\"]\n",
    "yaz=[\"haziran\",\"temmuz\",\"ağustos\"]\n",
    "sonbahar=[\"eylül\",\"ekim\",\"kasım\"]\n",
    "kış=[\"aralık\",\"ocak\",\"şubat\"]\n",
    "\n",
    "mevsimlere_göre_aylar=[ilkbahar,yaz,sonbahar,kış]\n",
    "\n",
    "print(mevsimlere_göre_aylar[0])\n",
    "print(mevsimlere_göre_aylar[1])\n",
    "print(mevsimlere_göre_aylar[2])\n",
    "print(mevsimlere_göre_aylar[3])"
   ]
  },
  {
   "cell_type": "code",
   "execution_count": null,
   "metadata": {},
   "outputs": [],
   "source": []
  },
  {
   "cell_type": "code",
   "execution_count": null,
   "metadata": {},
   "outputs": [],
   "source": []
  }
 ],
 "metadata": {
  "kernelspec": {
   "display_name": "Python 3",
   "language": "python",
   "name": "python3"
  },
  "language_info": {
   "codemirror_mode": {
    "name": "ipython",
    "version": 3
   },
   "file_extension": ".py",
   "mimetype": "text/x-python",
   "name": "python",
   "nbconvert_exporter": "python",
   "pygments_lexer": "ipython3",
   "version": "3.7.4"
  }
 },
 "nbformat": 4,
 "nbformat_minor": 2
}
