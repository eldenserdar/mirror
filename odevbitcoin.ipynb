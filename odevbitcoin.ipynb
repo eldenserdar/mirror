{
 "cells": [
  {
   "cell_type": "code",
   "execution_count": 8,
   "metadata": {},
   "outputs": [],
   "source": []
  },
  {
   "cell_type": "code",
   "execution_count": 21,
   "metadata": {},
   "outputs": [
    {
     "name": "stdout",
     "output_type": "stream",
     "text": [
      "bir hafta sonundaki toplam para: 2210.6814074060803 $\n"
     ]
    }
   ],
   "source": [
    "\n",
    "ilkpara=1000\n",
    "kazanç=12/100\n",
    "\n",
    "pazartesi=ilkpara+ilkpara*kazanç\n",
    "salı=pazartesi+pazartesi*kazanç\n",
    "çarşamba=salı+salı*kazanç\n",
    "perşembe=çarşamba+çarşamba*kazanç\n",
    "cuma=perşembe+perşembe*kazanç\n",
    "cumartesi=cuma+cuma*kazanç\n",
    "pazar=cumartesi+cumartesi*kazanç\n",
    "\n",
    "print(\"bir hafta sonundaki toplam para:\",pazar,\"$\")\n"
   ]
  },
  {
   "cell_type": "code",
   "execution_count": null,
   "metadata": {},
   "outputs": [],
   "source": []
  },
  {
   "cell_type": "code",
   "execution_count": null,
   "metadata": {},
   "outputs": [],
   "source": []
  }
 ],
 "metadata": {
  "kernelspec": {
   "display_name": "Python 3",
   "language": "python",
   "name": "python3"
  },
  "language_info": {
   "codemirror_mode": {
    "name": "ipython",
    "version": 3
   },
   "file_extension": ".py",
   "mimetype": "text/x-python",
   "name": "python",
   "nbconvert_exporter": "python",
   "pygments_lexer": "ipython3",
   "version": "3.7.4"
  }
 },
 "nbformat": 4,
 "nbformat_minor": 2
}
